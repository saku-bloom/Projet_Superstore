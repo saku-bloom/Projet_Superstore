{
 "cells": [
  {
   "cell_type": "code",
   "execution_count": null,
   "metadata": {},
   "outputs": [],
   "source": [
    "# 🛍️ Projet Superstore - Analyse des ventes\n",
    "\n",
    "# 1️⃣ Importer les bibliothèques\n",
    "import pandas as pd\n",
    "import matplotlib.pyplot as plt\n",
    "import seaborn as sns\n",
    "\n",
    "# 2️⃣ Charger le dataset\n",
    "df = pd.read_csv(\"../Sample - Superstore.csv\")\n",
    "\n",
    "# 3️⃣ Afficher les 5 premières lignes\n",
    "df.head()"
   ]
  }
 ],
 "metadata": {},
 "nbformat": 4,
 "nbformat_minor": 2
}
