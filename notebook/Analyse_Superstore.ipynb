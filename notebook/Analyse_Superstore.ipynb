# 🛍️ Projet Superstore - Analyse des ventes

# 1️⃣ Importer les bibliothèques
import pandas as pd
import matplotlib.pyplot as plt
import seaborn as sns

# 2️⃣ Charger le dataset
df = pd.read_csv("Sample - Superstore.csv")

# 3️⃣ Afficher les 5 premières lignes
df.head()
